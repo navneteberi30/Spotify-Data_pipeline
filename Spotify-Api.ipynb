{
 "nbformat": 4,
 "nbformat_minor": 0,
 "metadata": {
  "colab": {
   "name": "Copy of 5-Robust Query Search",
   "provenance": [],
   "collapsed_sections": []
  },
  "kernelspec": {
   "name": "python3",
   "display_name": "Python 3"
  },
  "language_info": {
   "name": "python"
  }
 },
 "cells": [
  {
   "cell_type": "code",
   "execution_count": null,
   "metadata": {
    "id": "-_aUowdKP0B3",
    "colab": {
     "base_uri": "https://localhost:8080/"
    },
    "outputId": "98668093-eef7-4f52-f38c-ad57e0e19f8d"
   },
   "outputs": [
    {
     "output_type": "stream",
     "name": "stdout",
     "text": [
      "Requirement already satisfied: boto3 in /usr/local/lib/python3.7/dist-packages (1.20.39)\n",
      "Requirement already satisfied: jmespath<1.0.0,>=0.7.1 in /usr/local/lib/python3.7/dist-packages (from boto3) (0.10.0)\n",
      "Requirement already satisfied: s3transfer<0.6.0,>=0.5.0 in /usr/local/lib/python3.7/dist-packages (from boto3) (0.5.0)\n",
      "Requirement already satisfied: botocore<1.24.0,>=1.23.39 in /usr/local/lib/python3.7/dist-packages (from boto3) (1.23.39)\n",
      "Requirement already satisfied: python-dateutil<3.0.0,>=2.1 in /usr/local/lib/python3.7/dist-packages (from botocore<1.24.0,>=1.23.39->boto3) (2.8.2)\n",
      "Requirement already satisfied: urllib3<1.27,>=1.25.4 in /usr/local/lib/python3.7/dist-packages (from botocore<1.24.0,>=1.23.39->boto3) (1.26.8)\n",
      "Requirement already satisfied: six>=1.5 in /usr/local/lib/python3.7/dist-packages (from python-dateutil<3.0.0,>=2.1->botocore<1.24.0,>=1.23.39->boto3) (1.15.0)\n"
     ]
    }
   ],
   "source": [
    "!pip install boto3"
   ]
  },
  {
   "cell_type": "code",
   "source": [
    "import base64\n",
    "import datetime\n",
    "import requests\n",
    "from urllib.parse import urlencode\n",
    "import csv"
   ],
   "metadata": {
    "colab": {
     "base_uri": "https://localhost:8080/"
    },
    "id": "vXrpGmuNNVnK",
    "outputId": "2c099e40-e50a-471b-daf3-9c3eac0d6e38"
   },
   "execution_count": null,
   "outputs": [
    {
     "output_type": "stream",
     "name": "stderr",
     "text": [
      "/usr/local/lib/python3.7/dist-packages/requests/__init__.py:91: RequestsDependencyWarning: urllib3 (1.26.8) or chardet (3.0.4) doesn't match a supported version!\n",
      "  RequestsDependencyWarning)\n"
     ]
    }
   ]
  },
  {
   "cell_type": "code",
   "source": [
    "client_id = '2e0ed8c4b9094d1eaf9f1d9b58d1ae31'\n",
    "client_secret = 'ab5bf8a5cc1e49c289b5a3d82f2c6e3c'"
   ],
   "metadata": {
    "id": "2Lbr0fswSC97"
   },
   "execution_count": null,
   "outputs": []
  },
  {
   "cell_type": "code",
   "source": [
    "class SpotifyApi(object):\n",
    "  access_token = None\n",
    "  access_token_expires = datetime.datetime.now()\n",
    "  access_token_did_expire = True \n",
    "  client_id = None\n",
    "  client_secret = None\n",
    "  token_url = 'https://accounts.spotify.com/api/token'\n",
    "\n",
    "  def __init__(self, client_id,client_secret, *args, **kwargs):\n",
    "    super().__init__(*args, **kwargs)\n",
    "    self.client_id = client_id\n",
    "    self.client_secret = client_secret\n",
    "  \n",
    "  def get_client_credentials(self):\n",
    "  \n",
    "    \"\"\"\n",
    "    Returns a base64 encoded string\n",
    "    \"\"\"\n",
    "    client_id = self.client_id\n",
    "    client_secret = self.client_secret\n",
    "    if client_id == None or client_secret == None:\n",
    "      raise Exception (\"You must set client_id and client_secret\")\n",
    "\n",
    "    client_creds = f\"{client_id}:{client_secret}\"\n",
    "    client_creds_b64 = base64.b64encode(client_creds.encode())\n",
    "    return client_creds_b64.decode()\n",
    "\n",
    "  def get_token_headers(self):\n",
    "    client_creds_b64 = self.get_client_credentials()\n",
    "    return {\n",
    "    \"Authorization\" : f\"Basic {client_creds_b64}\"#Basic <base64 encoded client_id:client_secret>\n",
    "}\n",
    "  \n",
    "  def get_token_data(self):\n",
    "    return {\n",
    "    \"grant_type\" : \"client_credentials\"\n",
    "}\n",
    "\n",
    "  def perform_auth(self):\n",
    "    token_url = self.token_url\n",
    "    token_data = self.get_token_data()\n",
    "    token_headers = self.get_token_headers()\n",
    "\n",
    "    r = requests.post(token_url, data = token_data, headers = token_headers) \n",
    "    \n",
    "\n",
    "    if r.status_code not in range(200,299):\n",
    "      raise Exception(\"Could not authenticate client\")\n",
    "        #return False\n",
    "    now = datetime.datetime.now()\n",
    "    data = r.json()\n",
    "    access_token = data['access_token']\n",
    "    self.access_token = access_token\n",
    "    expires_in = data['expires_in'] #seconds\n",
    "    expires = now +datetime.timedelta(seconds = expires_in)\n",
    "    self.access_token_expires = expires\n",
    "    self.access_token_did_expire = expires < now\n",
    "    return True\n",
    "\n",
    "  def get_access_token(self):\n",
    "    token = self.access_token\n",
    "    expires = self.access_token_expires\n",
    "    now = datetime.datetime.now()\n",
    "    if expires < now:\n",
    "      self.perform_auth()\n",
    "      return self.get_access_token()\n",
    "    elif token == None:\n",
    "      self.perform_auth()\n",
    "      return self.get_access_token()\n",
    "    return token\n",
    "\n",
    "  def get_resource_header(self):\n",
    "    access_token = self.get_access_token()\n",
    "    headers = {\n",
    "        \"Authorization\" : f\"Bearer {access_token}\"\n",
    "    }\n",
    "    return headers\n",
    "\n",
    "  def get_resource(self, lookup_id, resource_type = 'albums', version = 'v1'):\n",
    "    endpoint = f\"https://api.spotify.com/{version}/{resource_type}/{lookup_id}\"\n",
    "    headers = self.get_resource_header()\n",
    "    r = requests.get(endpoint, headers=headers)\n",
    "    if r.status_code not in range(200,299):\n",
    "      return {}\n",
    "    return r.json()\n",
    "\n",
    "  def get_resource_for_artists(self, lookup_id, resource_type = 'artists', version = 'v1'):\n",
    "    endpoint = f\"https://api.spotify.com/{version}/{resource_type}/{lookup_id}/albums\"\n",
    "    headers = self.get_resource_header()\n",
    "    r = requests.get(endpoint, headers=headers)\n",
    "    if r.status_code not in range(200,299):\n",
    "      return {}\n",
    "    return r.json()\n",
    "\n",
    "  def get_artist_albums(self,_id, album_type=None, country=None, limit=20, offset=0):\n",
    "    \"\"\" Get Spotify catalog information about an artist's albums\n",
    "            Parameters:\n",
    "                - artist_id - the artist ID, URI or URL\n",
    "                - album_type - 'album', 'single', 'appears_on', 'compilation'\n",
    "                - country - limit the response to one particular country.\n",
    "                - limit  - the number of albums to return\n",
    "                - offset - the index of the first album to return\n",
    "    \"\"\"\n",
    "    self.album_type = album_type\n",
    "    self.country = country\n",
    "    self.limit = limit  \n",
    "    self.offset = offset\n",
    "\n",
    "    return self.get_resource_for_artists(_id)\n",
    "\n",
    "  def get_album(self,_id):\n",
    "    \n",
    "    return self.get_resource(_id,resource_type='albums')\n",
    "\n",
    "  def get_artist(self, _id):\n",
    "    return self.get_resource(_id, resource_type = 'artists')\n",
    "\n",
    "  def get_playlist(self, _id):\n",
    "    return self.get_resource(_id, resource_type = 'playlists')\n",
    "\n",
    "\n",
    "  def base_search(self, query_params):\n",
    "    headers = self.get_resource_header()\n",
    "    endpoint = \"https://api.spotify.com/v1/search\"\n",
    "    lookup_url = f\"{endpoint}?{query_params}\"\n",
    "\n",
    "    r = requests.get(lookup_url, headers=headers)\n",
    "\n",
    "    if r.status_code not in range(200,299):\n",
    "      return {}\n",
    "    return r.json()\n",
    "\n",
    "  def search(self, query = None, operator=None, operator_query=None, search_type = 'artist'):\n",
    "    if query == None:\n",
    "      raise Exception(\"A query is required\")\n",
    "    if isinstance(query, dict):\n",
    "      query = ' '.join([f\"{k}:{v}\" for k,v in query.items()])\n",
    "    if operator != None and operator_query != None:\n",
    "      if operator.lower() == 'or' or operator.lower == 'not':\n",
    "        operator = operator.upper()\n",
    "        if isinstance(operator_query,str):\n",
    "          query = f\"{query} {operator} {operator_query}\"\n",
    "    \n",
    "    query_params = urlencode({\"q\":query, \"type\": search_type.lower()})\n",
    "    print(query_params)\n",
    "    return self.base_search(query_params)\n"
   ],
   "metadata": {
    "id": "fcDP0KnXQXKh"
   },
   "execution_count": null,
   "outputs": []
  },
  {
   "cell_type": "code",
   "source": [
    "spotify = SpotifyApi(client_id, client_secret)\n"
   ],
   "metadata": {
    "id": "geOkVZ_LRs44"
   },
   "execution_count": null,
   "outputs": []
  },
  {
   "cell_type": "code",
   "source": [
    "final_data_dictionary = {\n",
    "    'Year Relased' : [],\n",
    "    'Album Length' : [],\n",
    "    'Album Name' : [],\n",
    "    'Artist' : [],\n",
    "}"
   ],
   "metadata": {
    "id": "tht4L0cfjBDO"
   },
   "execution_count": null,
   "outputs": []
  },
  {
   "cell_type": "code",
   "source": [
    "def get_artists_from_playlist(playlist_uri):\n",
    "  '''\n",
    "  playlist_uri: Playlist to analyse\n",
    "  return: A dictionary(artist uri: artist name) of all primary artists in a playlist\n",
    "  '''\n",
    "  artists = {}\n",
    "  playlist_tracks = spotify.get_playlist(playlist_uri)\n",
    "  for song in playlist_tracks['tracks']['items']:\n",
    "    if song['track']:\n",
    "      #print(song['track']['artists'][0]['name'])\n",
    "      artists[song['track']['artists'][0]['uri']] = song['track']['artists'][0]['name']\n",
    "  return artists"
   ],
   "metadata": {
    "id": "hVMZ1BWcRioJ"
   },
   "execution_count": null,
   "outputs": []
  },
  {
   "cell_type": "code",
   "source": [
    "def spotify_playlists_uri():\n",
    "    playlists = '37i9dQZF1DX0XUsuxWHRQd'\n",
    "    return playlists"
   ],
   "metadata": {
    "id": "skOmiUCJS9s4"
   },
   "execution_count": null,
   "outputs": []
  },
  {
   "cell_type": "code",
   "source": [
    "def gather_data_local():\n",
    "  with open(\"rapcaviar_albums.csv\", 'w') as file:\n",
    "    header = list(final_data_dictionary.keys())\n",
    "    writer = csv.DictWriter(file, fieldnames=header)\n",
    "    writer.writeheader()\n",
    "    albums_obtained = []\n",
    "\n",
    "    artists = get_artists_from_playlist(spotify_playlists_uri())\n",
    "    for artist_split in list(artists.keys()):\n",
    "      artist = artist_split.split(':')[2]\n",
    "      print(artist)\n",
    "      artists_albums = spotify.get_artist_albums(artist,album_type='album',limit=50)\n",
    "      try:\n",
    "        for album in artists_albums['items']:\n",
    "          key = album['name'] + album['artists'][0]['name'] + album['release_date'][:4]\n",
    "          album_uri = album['uri'].split(':')[2]\n",
    "      except KeyError:\n",
    "        pass\n",
    "        if key not in albums_obtained:\n",
    "          albums_obtained.append(key)\n",
    "          album_data = spotify.get_album(album_uri)\n",
    "          album_length_ms = 0\n",
    "          #For every song in the album\n",
    "          for song in album_data['tracks']['items']:\n",
    "              album_length_ms = song['duration_ms'] + album_length_ms\n",
    "          writer.writerow({'Year Released': album_data['release_date'][:4],\n",
    "                           'Album Length' : album_length_ms,\n",
    "                           'Album Name' : album_data['name'],\n",
    "                           'Artist' : album_data['artists'][0]['name']       \n",
    "                           })\n",
    "  return final_data_dictionary\n",
    "  s3_resource = boto3.resource('s3')\n",
    "  date = datetime.now()\n",
    "  filename = f'{date.year}/{date.month}/{date.day}/rapcaviar_albums.csv'\n",
    "  response = s3_resource.Object('spotify-analysis-data', filename).upload_file(\"/tmp/rapcaviar_albums.csv\")\n",
    "\n",
    "  return response\n",
    "\n"
   ],
   "metadata": {
    "id": "R2jPTgOPQm7h"
   },
   "execution_count": null,
   "outputs": []
  },
  {
   "cell_type": "code",
   "source": [
    "def lambda_handler(event, context):\n",
    "    gather_data_local()\n",
    "    \n"
   ],
   "metadata": {
    "id": "Fuwpg8nPUMr7"
   },
   "execution_count": null,
   "outputs": []
  }
 ]
}
